{
 "cells": [
  {
   "cell_type": "markdown",
   "id": "38d4f2bb-8575-4fdc-b028-6688ba5a8c11",
   "metadata": {},
   "source": [
    "Number (int & float)"
   ]
  },
  {
   "cell_type": "code",
   "execution_count": 25,
   "id": "d2f27bcc-4257-40f0-9fc9-bba544d5d091",
   "metadata": {},
   "outputs": [
    {
     "name": "stdout",
     "output_type": "stream",
     "text": [
      "<class 'int'>\n",
      "3\n",
      "4\n",
      "2\n",
      "6\n",
      "9\n"
     ]
    }
   ],
   "source": [
    "x = 3\n",
    "print(type(x))\n",
    "print(x)\n",
    "print(x+1)\n",
    "print(x-1)\n",
    "print(x*2)\n",
    "print(x**2)"
   ]
  },
  {
   "cell_type": "code",
   "execution_count": 45,
   "id": "1584c24e-d927-4a4b-8350-862348ecb4ff",
   "metadata": {},
   "outputs": [
    {
     "name": "stdout",
     "output_type": "stream",
     "text": [
      "255\n",
      "765\n",
      "16581375\n",
      "510\n",
      "2.566\n",
      "<class 'float'>\n",
      "2.566 3.566 5.132 6.584355999999999\n"
     ]
    }
   ],
   "source": [
    "x+=1\n",
    "print(x)\n",
    "print(x*3)\n",
    "print(x**3)\n",
    "\n",
    "x *= 2\n",
    "print(x)\n",
    "\n",
    "y = 2.566\n",
    "print(y)\n",
    "print(type(y))\n",
    "print(y, y + 1, y * 2, y ** 2)"
   ]
  },
  {
   "cell_type": "code",
   "execution_count": null,
   "id": "772ee518-8ad5-4c27-82f6-412183c10f45",
   "metadata": {},
   "outputs": [],
   "source": []
  }
 ],
 "metadata": {
  "kernelspec": {
   "display_name": "Python 3 (ipykernel)",
   "language": "python",
   "name": "python3"
  },
  "language_info": {
   "codemirror_mode": {
    "name": "ipython",
    "version": 3
   },
   "file_extension": ".py",
   "mimetype": "text/x-python",
   "name": "python",
   "nbconvert_exporter": "python",
   "pygments_lexer": "ipython3",
   "version": "3.12.7"
  }
 },
 "nbformat": 4,
 "nbformat_minor": 5
}
